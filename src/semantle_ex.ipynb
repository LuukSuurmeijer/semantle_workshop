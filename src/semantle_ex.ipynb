{
 "cells": [
  {
   "cell_type": "code",
   "execution_count": 1,
   "metadata": {},
   "outputs": [],
   "source": [
    "import nltk\n",
    "from nltk.corpus import stopwords\n",
    "from nltk.stem import WordNetLemmatizer\n",
    "from collections import Counter\n",
    "from itertools import chain\n",
    "\n",
    "import os\n",
    "import sys\n",
    "import string\n",
    "import re\n",
    "\n",
    "import matplotlib.pyplot as plt\n",
    "import numpy as np\n",
    "from sklearn.decomposition import TruncatedSVD\n",
    "import pickle"
   ]
  },
  {
   "cell_type": "code",
   "execution_count": 2,
   "metadata": {},
   "outputs": [
    {
     "name": "stderr",
     "output_type": "stream",
     "text": [
      "[nltk_data] Downloading package wordnet to /home/luuk/nltk_data...\n",
      "[nltk_data]   Package wordnet is already up-to-date!\n",
      "[nltk_data] Downloading package omw-1.4 to /home/luuk/nltk_data...\n",
      "[nltk_data]   Package omw-1.4 is already up-to-date!\n"
     ]
    },
    {
     "data": {
      "text/plain": [
       "True"
      ]
     },
     "execution_count": 2,
     "metadata": {},
     "output_type": "execute_result"
    }
   ],
   "source": [
    "nltk.download('wordnet')\n",
    "nltk.download('omw-1.4')"
   ]
  },
  {
   "cell_type": "markdown",
   "metadata": {},
   "source": [
    "First we have to read in the data, which consists of raw text files of the first 3 books of The Witcher series. We then preprocess the data. Which preprocessing techniques is the function `tokenize()` using?"
   ]
  },
  {
   "cell_type": "code",
   "execution_count": 3,
   "metadata": {},
   "outputs": [],
   "source": [
    "def read(path):\n",
    "    data = \"\"\n",
    "    for file in os.listdir(path):\n",
    "        if file.endswith(\".txt\"):\n",
    "            with open(f\"{path}{file}\", 'r', encoding=\"utf8\") as f:\n",
    "                raw = f.read()\n",
    "                data = f\"{data}{raw}\"\n",
    "    return data\n",
    "\n",
    "def tokenize(rawdata, sw):\n",
    "\n",
    "    stop = sw\n",
    "    lemmatizer = WordNetLemmatizer()\n",
    "    sents = nltk.sent_tokenize(rawdata.lower())\n",
    "    tokens = []\n",
    "    for sent in sents:\n",
    "        sent = re.sub(r'[^\\w\\s]', '', sent)\n",
    "        tok = tuple([lemmatizer.lemmatize(i) for i in nltk.word_tokenize(sent.lower()) if i not in stop])\n",
    "        tokens.append(tok)\n",
    "    return list(chain.from_iterable(tokens)), tokens\n",
    "\n",
    "gist_file = open(\"../data/gist_stopwords.txt\", \"r\")\n",
    "try:\n",
    "    content = gist_file.read()\n",
    "    stopwordslist = content.split(\",\")  + [\"dont\", \"don't\", \"did\", \"didnt\", \"didn't\"] + stopwords.words('english') + list(string.punctuation)\n",
    "finally:\n",
    "    gist_file.close()"
   ]
  },
  {
   "cell_type": "code",
   "execution_count": 4,
   "metadata": {},
   "outputs": [],
   "source": [
    "path = '../data/'\n",
    "word_data, sent_data = tokenize(read(path), stopwordslist)"
   ]
  },
  {
   "cell_type": "code",
   "execution_count": 5,
   "metadata": {},
   "outputs": [
    {
     "name": "stdout",
     "output_type": "stream",
     "text": [
      "75617 17492\n"
     ]
    }
   ],
   "source": [
    "print(len(word_data), len(sent_data))"
   ]
  },
  {
   "cell_type": "markdown",
   "metadata": {},
   "source": [
    "You always have to look at your data before you do something with it. Use the `.most_common()` method of the counter object to check what the 20 most frequent words in our data are."
   ]
  },
  {
   "cell_type": "code",
   "execution_count": 7,
   "metadata": {},
   "outputs": [
    {
     "name": "stdout",
     "output_type": "stream",
     "text": [
      "[('geralt', 973), ('witcher', 671), ('ciri', 469), ('time', 412), ('eye', 410), ('hand', 378), ('head', 367), ('dandilion', 308), ('yennefer', 265), ('girl', 240), ('ill', 226), ('triss', 225), ('sword', 213), ('long', 213), ('elf', 209), ('face', 199), ('turned', 198), ('looked', 189), ('man', 188), ('ive', 186)]\n"
     ]
    }
   ],
   "source": [
    "c = Counter(word_data)\n",
    "# TODO"
   ]
  },
  {
   "cell_type": "markdown",
   "metadata": {},
   "source": [
    "Let's take a look at the Zipfian curve of our data."
   ]
  },
  {
   "cell_type": "code",
   "execution_count": 8,
   "metadata": {},
   "outputs": [
    {
     "data": {
      "text/plain": [
       "[<matplotlib.lines.Line2D at 0x7f2d89ec0be0>]"
      ]
     },
     "execution_count": 8,
     "metadata": {},
     "output_type": "execute_result"
    },
    {
     "data": {
      "image/png": "[encoded data removed]",
      "text/plain": [
       "<Figure size 640x480 with 1 Axes>"
      ]
     },
     "metadata": {},
     "output_type": "display_data"
    }
   ],
   "source": [
    "mostcommon = c.most_common()\n",
    "plt.loglog([i for i, tup in enumerate(mostcommon)], [count for word, count in mostcommon])"
   ]
  },
  {
   "cell_type": "markdown",
   "metadata": {},
   "source": [
    "Now we are going to build our matrix! We will be using a term-sentence matrix, where a word is represented in terms of how often it occurs in what sentences in the data. We construct a couple of helper datastructures that map each word/sentence to an index and vice versa, so we can look-up words easily later. Create the dictionary that maps words onto an index based on idx2word and do the same for the context."
   ]
  },
  {
   "cell_type": "code",
   "execution_count": 9,
   "metadata": {},
   "outputs": [],
   "source": [
    "# Some helper data structures that will help us find which words/sentences belong to which elements of the matrix\n",
    "idx2word = list(set(word_data))\n",
    "word2idx = {} #TODO\n",
    "\n",
    "idx2context = list(set(sent_data))\n",
    "context2id = {} # TODO"
   ]
  },
  {
   "cell_type": "markdown",
   "metadata": {},
   "source": [
    "We initialize and empty matrix (only 0). Why do you think we use `dtype=np.float16` rather than `dtype=np.float64` ? Check how much memory the matrix is taking up with `sys.getsizeof()` (divide the result by `1048576` to get MB)."
   ]
  },
  {
   "cell_type": "code",
   "execution_count": 10,
   "metadata": {},
   "outputs": [
    {
     "name": "stdout",
     "output_type": "stream",
     "text": [
      "(11093, 14293)\n",
      "Matrix memory: 302.41 MB\n"
     ]
    }
   ],
   "source": [
    "cooc_matrix = np.zeros((len(idx2word), len(idx2context)), dtype=np.float16) # words on rows, contexts on columns\n",
    "print(cooc_matrix.shape)\n",
    "print(f\"Matrix memory: {} MB\") #TODO"
   ]
  },
  {
   "cell_type": "markdown",
   "metadata": {},
   "source": [
    "In this loop we construct the count matrix! We loop over the sentences of our data, and add 1 to the corresponding cell in the matrix. Complete the inner for loop, and make a variable that keeps track of the total count of the matrix (we will need it later)."
   ]
  },
  {
   "cell_type": "code",
   "execution_count": 11,
   "metadata": {},
   "outputs": [],
   "source": [
    "total_count = #TODO\n",
    "for i, context in enumerate(sent_data):\n",
    "    context_idx = context2id[context]\n",
    "    word_idx = [word2idx[word] for word in context]\n",
    "    for j in word_idx:\n",
    "        #TODO"
   ]
  },
  {
   "cell_type": "markdown",
   "metadata": {},
   "source": [
    "Use `np.max()` to find out the highest count we recorded in the matrix. What percentage of entries is NOT zero? Calculate this with `np.count_nonzero()`, you can get the dimensions of the matrix as a tuple with `cooc_matrix.size`."
   ]
  },
  {
   "cell_type": "code",
   "execution_count": 12,
   "metadata": {},
   "outputs": [
    {
     "name": "stdout",
     "output_type": "stream",
     "text": [
      "Total count: 75616\n",
      "Highest count: 104.0\n",
      "Percentage of zero elements: 0.04555596054648206\n"
     ]
    }
   ],
   "source": [
    "print(f\"Total count: {total_count}\")\n",
    "print(f\"Highest count: {}\") # TODO\n",
    "print(f\"Percentage of zero elements: {}\") # TODO"
   ]
  },
  {
   "cell_type": "markdown",
   "metadata": {},
   "source": [
    "Let's make a PMI matrix out of the co-occurrence matrix. Can you reconstruct the math on the slides from the code? I made two versions of the function that does this for us, why do we want to use the second one over the first one? Why do we use the logarithm at the end?"
   ]
  },
  {
   "cell_type": "code",
   "execution_count": 13,
   "metadata": {},
   "outputs": [],
   "source": [
    "def pmi(matrix, total_count):\n",
    "    pmi_total = matrix / total_count # Eq 1\n",
    "    pmi_words = (matrix.sum(axis=1) / total_count).reshape(-1, 1) # Eq 2\n",
    "    pmi_contexts = (matrix.sum(axis=0) / total_count).reshape(-1, 1) # Eq 3\n",
    "\n",
    "    #Eq 4\n",
    "    denom = (pmi_words.T*pmi_contexts).T\n",
    "    new_matrix = np.log(pmi_total / denom)\n",
    "\n",
    "    #Eq 5\n",
    "    new_matrix[new_matrix <= 0] = 0\n",
    "    return new_matrix\n",
    "\n",
    "def pmi_space(matrix, total_count):\n",
    "    new_matrix = np.log(\n",
    "        ((matrix) / total_count) /\n",
    "        ((matrix.sum(axis=1) / total_count).reshape(-1, 1).T * (matrix.sum(axis=0) / total_count).reshape(-1, 1)).T\n",
    "    )\n",
    "    new_matrix[new_matrix <= 0] = 0\n",
    "    new_matrix[np.isnan(new_matrix)] = 0\n",
    "    return new_matrix"
   ]
  },
  {
   "cell_type": "code",
   "execution_count": 14,
   "metadata": {},
   "outputs": [
    {
     "name": "stderr",
     "output_type": "stream",
     "text": [
      "/tmp/ipykernel_352605/1627137873.py:16: RuntimeWarning: invalid value encountered in true_divide\n",
      "  ((matrix) / total_count) /\n",
      "/tmp/ipykernel_352605/1627137873.py:15: RuntimeWarning: divide by zero encountered in log\n",
      "  new_matrix = np.log(\n"
     ]
    }
   ],
   "source": [
    "pmi_matrix = pmi_space(cooc_matrix, total_count)"
   ]
  },
  {
   "cell_type": "markdown",
   "metadata": {},
   "source": [
    "We fixed one problem of the coocurrence matrix, but it is still really large! We can use Singular Value Decomposition to reduce the dimensionality of our matrix."
   ]
  },
  {
   "cell_type": "code",
   "execution_count": 15,
   "metadata": {},
   "outputs": [],
   "source": [
    "#Fitting the SVD class\n",
    "svd =  TruncatedSVD(n_components = 300)\n",
    "SVD_matrix = svd.fit_transform(pmi_matrix)"
   ]
  },
  {
   "cell_type": "code",
   "execution_count": 16,
   "metadata": {},
   "outputs": [
    {
     "name": "stdout",
     "output_type": "stream",
     "text": [
      "(11093, 300)\n",
      "Matrix memory: 25.39 MB\n"
     ]
    }
   ],
   "source": [
    "print(SVD_matrix.shape)\n",
    "print(f\"Matrix memory: {np.round(sys.getsizeof(SVD_matrix) / 1048576, 2)} MB\") # Huge !"
   ]
  },
  {
   "cell_type": "markdown",
   "metadata": {},
   "source": [
    "Now that we have nice and neat dense matrix, we can compare vectors! Just for sanity we should check whether the cosine distance of a vector with itself is equal to `1`. Check this, but leave some room for numerical instability (`0.9999 = 1`). Similarly for the PMI, can you reconstruct the math for the cosine function from the code?"
   ]
  },
  {
   "cell_type": "code",
   "execution_count": 17,
   "metadata": {},
   "outputs": [],
   "source": [
    "def cosine_distance(list_1, list_2):\n",
    "  cos_sim = np.dot(list_1, list_2) / (np.linalg.norm(list_1) * np.linalg.norm(list_2))\n",
    "  return cos_sim\n",
    "\n",
    "for word in idx2word:\n",
    "    assert # TODO"
   ]
  },
  {
   "cell_type": "markdown",
   "metadata": {},
   "source": [
    "We can manually assess the quality of our vectors by looking at the top most similar words for a particular target word. This function below calculates the cosine similarity of every word in our matrix with `guess` (don't have to understand how this works)."
   ]
  },
  {
   "cell_type": "code",
   "execution_count": 18,
   "metadata": {},
   "outputs": [],
   "source": [
    "def all_cosines(guess, words):\n",
    "    # num_words x features @ features x 1 = num_words x 1\n",
    "    numerator = words @ guess\n",
    "    # words_matrix @ words_matrix.T --> the squares of the matrix are on the diagonal\n",
    "    # we want to avoid computing all the non-diagonal elements somehow\n",
    "    # we can achieve this with einstein summation:\n",
    "    #   np.einsum('ij,jk') is the normal matrix product\n",
    "    #   np.einsum('ij,ji') gives us the sum over all diagonal elements of the matrix product\n",
    "    #   np.einsum('ij,ji->i') unforces the sum operation, so just returns the elements of the diagonal\n",
    "    # dim: num_words x features \\w features x num_words --> num_words x 1\n",
    "    norms = np.sqrt(np.einsum('ij,ji->i', words, words.T))\n",
    "    # elem-multiply by norm of guess, denominator --> (num_words x 1)\n",
    "    denominator = norms * np.linalg.norm(guess, 2)\n",
    "    cosines = numerator / denominator\n",
    "    return np.round(cosines, 3)\n",
    "\n",
    "def most_similar(n, matrix):\n",
    "    sorted = np.argsort(matrix, axis=-1)\n",
    "    return [(idx2word[i], matrix[i]) for i in sorted[len(sorted)-n:len(sorted)]]"
   ]
  },
  {
   "cell_type": "markdown",
   "metadata": {},
   "source": [
    "Now we can look at our vectors in a very structured way. Can you find some interesting words for which our model gives counterintuitive of strange neighbours?"
   ]
  },
  {
   "cell_type": "code",
   "execution_count": 19,
   "metadata": {},
   "outputs": [
    {
     "name": "stdout",
     "output_type": "stream",
     "text": [
      "11093\n",
      "[('silver', 0.349), ('aeschna', 0.35), ('graveirs', 0.356), ('kiki', 0.375), ('kikimora', 0.376), ('sensitive', 0.376), ('giant', 0.401), ('spraying', 0.402), ('werewolf', 0.403), ('vampire', 0.415), ('manticore', 0.424), ('annis', 0.431), ('scorpion', 0.44), ('ilyocoris', 0.45), ('cuach', 0.452), ('badraigh', 0.452), ('mal', 0.452), ('corpsedevouring', 0.478), ('chimera', 0.492), ('leshy', 0.496), ('graveir', 0.522), ('wyvern', 0.53), ('vypper', 0.563), ('fogler', 0.564), ('ghoul', 1.0)]\n"
     ]
    }
   ],
   "source": [
    "full = all_cosines(SVD_matrix[word2idx[\"ghoul\"]], SVD_matrix)\n",
    "print('SVD')\n",
    "print(most_similar(10, full))\n",
    "full = all_cosines(cooc_matrix[word2idx[\"ghoul\"]], cooc_matrix)\n",
    "print('COOC')\n",
    "print(most_similar(10, full))\n",
    "full = all_cosines(pmi_matrix[word2idx[\"ghoul\"]], pmi_matrix)\n",
    "print('PMI')\n",
    "print(most_similar(10, full))"
   ]
  },
  {
   "cell_type": "code",
   "execution_count": 20,
   "metadata": {},
   "outputs": [
    {
     "name": "stdout",
     "output_type": "stream",
     "text": [
      "11093\n",
      "[('deciding', 0.492), ('baldhorn', 0.503), ('amusement', 0.505), ('clustered', 0.506), ('terrace', 0.506), ('drenching', 0.507), ('hagge', 0.512), ('cornice', 0.533), ('quake', 0.533), ('eyesockets', 0.545), ('cleaning', 0.549), ('roamed', 0.549), ('grooming', 0.549), ('refusal', 0.552), ('moat', 0.563), ('loop', 0.57), ('torpor', 0.577), ('reminds', 0.595), ('restless', 0.606), ('irritable', 0.606), ('eradicate', 0.645), ('blustered', 0.65), ('store', 0.699), ('citadel', 0.741), ('castle', 1.0)]\n"
     ]
    }
   ],
   "source": [
    "full = all_cosines(SVD_matrix[word2idx[\"castle\"]], SVD_matrix)\n",
    "print(most_similar(25, full))"
   ]
  },
  {
   "cell_type": "code",
   "execution_count": 23,
   "metadata": {},
   "outputs": [],
   "source": [
    "fileObj = open('witcher.mat', 'wb')\n",
    "pickle.dump(SVD_matrix,fileObj)\n",
    "fileObj.close()\n",
    "\n",
    "fileObj = open('worddict.dic', 'wb')\n",
    "pickle.dump(word2idx, fileObj)\n",
    "fileObj.close()\n",
    "\n",
    "fileObj = open('indices.list', 'wb')\n",
    "pickle.dump(idx2word, fileObj)\n",
    "fileObj.close()\n"
   ]
  }
 ],
 "metadata": {
  "kernelspec": {
   "display_name": "Python 3 (ipykernel)",
   "language": "python",
   "name": "python3"
  },
  "language_info": {
   "codemirror_mode": {
    "name": "ipython",
    "version": 3
   },
   "file_extension": ".py",
   "mimetype": "text/x-python",
   "name": "python",
   "nbconvert_exporter": "python",
   "pygments_lexer": "ipython3",
   "version": "3.10.4"
  }
 },
 "nbformat": 4,
 "nbformat_minor": 1
}
